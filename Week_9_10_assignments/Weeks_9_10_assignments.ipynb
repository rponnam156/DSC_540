{
 "cells": [
  {
   "cell_type": "code",
   "execution_count": 17,
   "id": "60af642a",
   "metadata": {},
   "outputs": [],
   "source": [
    "#Activity 9\n",
    "# Import required libraries\n",
    "import urllib.request, urllib.parse, urllib.error\n",
    "import requests\n",
    "from bs4 import BeautifulSoup\n",
    "import ssl\n",
    "import re"
   ]
  },
  {
   "cell_type": "code",
   "execution_count": 26,
   "id": "f688b300",
   "metadata": {},
   "outputs": [],
   "source": [
    "#Activity 9\n",
    "#Check ssl certificate\n",
    "ct = ssl.create_default_context()\n",
    "ct.check_hostname = False\n",
    "ct.verify_mode = ssl.CERT_NONE"
   ]
  },
  {
   "cell_type": "code",
   "execution_count": 41,
   "id": "b14d7cc2",
   "metadata": {},
   "outputs": [
    {
     "data": {
      "text/plain": [
       "<Response [200]>"
      ]
     },
     "execution_count": 41,
     "metadata": {},
     "output_type": "execute_result"
    }
   ],
   "source": [
    "#Activity 9\n",
    "# Read HTML\n",
    "url= 'https://www.gutenberg.org/browse/scores/top'\n",
    "response=requests.get(url)\n",
    "response"
   ]
  },
  {
   "cell_type": "code",
   "execution_count": 66,
   "id": "2312539f",
   "metadata": {},
   "outputs": [
    {
     "name": "stdout",
     "output_type": "stream",
     "text": [
      "Successful connection\n"
     ]
    },
    {
     "data": {
      "text/plain": [
       "1"
      ]
     },
     "execution_count": 66,
     "metadata": {},
     "output_type": "execute_result"
    }
   ],
   "source": [
    "#Activity 9\n",
    "# Function to check the status of the web request\n",
    "def response_check_status(r):\n",
    "    if r.status_code==200:\n",
    "        print('Successful connection')\n",
    "        return 1\n",
    "    else:\n",
    "       print('Failed connection')\n",
    "       return -1\n",
    "    \n",
    "response_check_status(response)"
   ]
  },
  {
   "cell_type": "code",
   "execution_count": 77,
   "id": "b828a45d",
   "metadata": {},
   "outputs": [],
   "source": [
    "#Activity 9\n",
    "# Parse HTML response\n",
    "c=response.content.decode(response.encoding)\n",
    "soup = BeautifulSoup(c, 'html.parser')"
   ]
  },
  {
   "cell_type": "code",
   "execution_count": 94,
   "id": "4cf85f0a",
   "metadata": {},
   "outputs": [
    {
     "data": {
      "text/plain": [
       "['/',\n",
       " '/about/',\n",
       " '/about/',\n",
       " '/policy/collection_development.html',\n",
       " '/about/contact_information.html',\n",
       " '/about/background/',\n",
       " '/policy/permission.html',\n",
       " '/policy/privacy_policy.html',\n",
       " '/policy/terms_of_use.html',\n",
       " '/ebooks/',\n",
       " '/ebooks/',\n",
       " '/ebooks/bookshelf/',\n",
       " '/browse/scores/top',\n",
       " '/ebooks/offline_catalogs.html',\n",
       " '/help/',\n",
       " '/help/',\n",
       " '/help/copyright.html',\n",
       " '/help/errata.html',\n",
       " '/help/file_formats.html',\n",
       " '/help/faq.html',\n",
       " '/policy/',\n",
       " '/help/public_domain_ebook_submission.html',\n",
       " '/help/submitting_your_own_work.html',\n",
       " '/help/mobile.html',\n",
       " '/attic/',\n",
       " '/donate/',\n",
       " '/donate/',\n",
       " '#books-last1',\n",
       " '#authors-last1',\n",
       " '#books-last7']"
      ]
     },
     "execution_count": 94,
     "metadata": {},
     "output_type": "execute_result"
    }
   ],
   "source": [
    "#Activity 9\n",
    "# Find all href tags and print first 30\n",
    "lnk=[]\n",
    "for link in soup.find_all('a'):\n",
    "    lnk.append(link.get('href'))\n",
    "    \n",
    "lnk[:30]"
   ]
  },
  {
   "cell_type": "code",
   "execution_count": 98,
   "id": "449591ee",
   "metadata": {},
   "outputs": [],
   "source": [
    "#Activity 9\n",
    "# File numbes of top 100 ebooks\n",
    "booknum=[]\n",
    "\n",
    "for i in range(1,100):\n",
    "    link=lnk[i]\n",
    "    link=link.strip()\n",
    "#Numeric digits in the link\n",
    "    n=re.findall('[0-9]+', link)\n",
    "    if len(n)==1:\n",
    "      booknum.append(int(n[0]))"
   ]
  },
  {
   "cell_type": "code",
   "execution_count": 106,
   "id": "e9086f11",
   "metadata": {},
   "outputs": [
    {
     "name": "stdout",
     "output_type": "stream",
     "text": [
      "The file numbers of top 100 ebooks\n",
      "\n",
      "[1, 1, 7, 7, 30, 30, 1342, 68137, 11, 84, 1661, 68134, 20228, 2701, 345, 98, 174, 64317, 4300, 68133, 1952, 32449, 43, 2600, 1400, 68135, 1260, 1080, 35899, 1184, 2554, 1232, 2591, 30254, 2542, 47629, 5740, 76, 45, 5200, 74, 6130, 219, 844, 46, 514, 120, 55, 158, 1727, 135, 28054, 27827, 10623, 2852, 58585, 68140, 2814, 25344, 1497, 996, 4363, 35, 16, 766, 68136, 730, 768, 67098, 10676, 205, 1399, 244]\n"
     ]
    }
   ],
   "source": [
    "#Activity 9\n",
    "# File numbes of top 100 ebooks\n",
    "print('The file numbers of top 100 ebooks\\n')\n",
    "print(booknum)"
   ]
  },
  {
   "cell_type": "code",
   "execution_count": 117,
   "id": "61a573be",
   "metadata": {},
   "outputs": [
    {
     "name": "stdout",
     "output_type": "stream",
     "text": [
      "\n",
      "\n",
      "\n",
      "\n",
      "Top 100 | Project Gutenberg\n",
      "\n",
      "\n",
      "\n",
      "\n",
      "\n",
      "\n",
      "\n",
      "\n",
      "\n",
      "\n",
      "\n",
      "\n",
      "\n",
      "\n",
      "\n",
      "\n",
      "\n",
      "\n",
      "\n",
      "\n",
      "\n",
      "\n",
      "\n",
      "\n",
      "\n",
      "\n",
      "\n",
      "Menu▾\n",
      "\n",
      "\n",
      "\n",
      "About\n",
      "          ▾\n",
      "\n",
      "▾\n",
      "\n",
      "\n",
      "About Project Gutenberg\n",
      "Collection Development\n",
      "Contact Us\n",
      "History & Philosophy\n",
      "Permissions & License\n",
      "Privacy Policy\n",
      "Terms of Use\n",
      "\n",
      "\n",
      "\n",
      "Search and Browse\n",
      "      \t  ▾\n",
      "\n",
      "▾\n",
      "\n",
      "\n",
      "Book Search\n",
      "Bookshelves\n",
      "Frequently Downloaded\n",
      "Offline Catalogs\n",
      "\n",
      "\n",
      "\n",
      "Help\n",
      "          ▾\n",
      "\n",
      "▾\n",
      "\n",
      "\n",
      "All help topics →\n",
      "Copyright Procedures\n",
      "Errata, Fixes and Bug Reports\n",
      "File Formats\n",
      "Frequently Asked Questions\n",
      "Policies →\n",
      "Public Domain eBook Submission\n",
      "Submitting Your Own Work\n",
      "Tablets, Phones and eReaders\n",
      "The Attic →\n",
      "\n",
      "\n",
      "Donate\n",
      "\n",
      "\n",
      "\n",
      "\n",
      "\n",
      "\n",
      "\n",
      "\n",
      "\n",
      "\n",
      "Donation\n",
      "\n",
      "\n",
      "\n",
      "\n",
      "\n",
      "\n",
      "\n",
      "Frequently Viewed or Downloaded\n",
      "These listings are based on the number of times each eBook gets downloaded.\n",
      "      Multiple downloads from the same Internet address on the same day count as one download, and addresses that download more than 100 eBooks in a day are considered robots and are not counted.\n",
      "\n",
      "Downloaded Books\n",
      "2022-05-21134032\n",
      "last 7 days1067660\n",
      "last 30 days4882328\n",
      "\n",
      "\n",
      "\n",
      "Top 100 EBooks yesterday\n",
      "Top 100 Authors yesterday\n",
      "Top 100 EBooks last 7 days\n",
      "Top 100 Authors last 7 days\n",
      "Top 100 EBooks last 30 days\n",
      "Top 100 Authors last 30 days\n",
      "\n",
      "\n",
      "Top 100 EBooks yesterday\n",
      "\n",
      "Pride and Prejudice by Jane Austen (1146)\n",
      "The cake and biscuit book by Elizabeth Douglas (810)\n",
      "Alice's Adventures in Wonderland by Lewis Carroll (780)\n",
      "Frankenstein; Or, The Modern Prometheus by Mary Wollstonecraft Shelley (738)\n",
      "The Adventures of Sherlock Holmes by Arthur Conan Doyle (724)\n",
      "The book of Earth by Alfred Noyes (654)\n",
      "Noli Me Tangere by José Rizal (549)\n",
      "Moby Dick; Or, The Whale by Herman Melville (516)\n",
      "Dracula by Bram Stoker (509)\n",
      "A Tale of Two Cities by Charles Dickens (456)\n",
      "The Picture of Dorian Gray by Oscar Wilde (439)\n",
      "The Great Gatsby by F. Scott  Fitzgerald (368)\n",
      "Ulysses by James Joyce (345)\n",
      "The history of the proceedings in the case of Margaret, commonly called Peg, only lawful sister to J (344)\n",
      "The Yellow Wallpaper by Charlotte Perkins Gilman (342)\n",
      "Japanese Girls and Women by Alice Mabel Bacon (329)\n",
      "Th\n"
     ]
    }
   ],
   "source": [
    "#Activity 9\n",
    "# .text method to print first 2000 characters\n",
    "print(soup.text[:2000])"
   ]
  },
  {
   "cell_type": "code",
   "execution_count": 128,
   "id": "754d5031",
   "metadata": {},
   "outputs": [
    {
     "name": "stdout",
     "output_type": "stream",
     "text": [
      "Top \n",
      "Top \n",
      "Top \n",
      "Top \n",
      "\n",
      "\n",
      "Top \n",
      "\n",
      "Pride and Prejudice by Jane Austen \n",
      "The cake and biscuit book by Elizabeth Douglas \n",
      "Alice\n",
      "Frankenstein\n",
      "The Adventures of Sherlock Holmes by Arthur Conan Doyle \n",
      "The book of Earth by Alfred Noyes \n",
      "Noli Me Tangere by Jos\n",
      "Moby Dick\n",
      "Dracula by Bram Stoker \n",
      "A Tale of Two Cities by Charles Dickens \n",
      "The Picture of Dorian Gray by Oscar Wilde \n",
      "The Great Gatsby by F\n",
      "Ulysses by James Joyce \n",
      "The history of the proceedings in the case of Margaret\n",
      "The Yellow Wallpaper by Charlotte Perkins Gilman \n",
      "Japanese Girls and Women by Alice Mabel Bacon \n",
      "The Strange Case of Dr\n",
      "War and Peace by graf Leo Tolstoy \n",
      "Great Expectations by Charles Dickens \n",
      "Flower o\n",
      "Jane Eyre\n",
      "A Modest Proposal by Jonathan Swift \n",
      "The Philippines a Century Hence by Jos\n",
      "The Count of Monte Cristo\n",
      "Crime and Punishment by Fyodor Dostoyevsky \n",
      "The Prince by Niccol\n",
      "Grimms\n",
      "The Romance of Lust\n",
      "A Doll\n",
      "Ang \n",
      "Tractatus Logico\n",
      "Adventures of Huckleberry Finn by Mark Twain \n",
      "Anne of Green Gables by L\n",
      "Metamorphosis by Franz Kafka \n",
      "The Adventures of Tom Sawyer\n",
      "The Iliad by Homer \n",
      "Heart of Darkness by Joseph Conrad \n",
      "The Importance of Being Earnest\n",
      "A Christmas Carol in Prose\n",
      "Little Women by Louisa May Alcott \n",
      "Treasure Island by Robert Louis Stevenson \n",
      "The Wonderful Wizard of Oz by L\n",
      "Emma by Jane Austen \n",
      "The Odyssey by Homer \n",
      "Les Mis\n",
      "The Brothers Karamazov by Fyodor Dostoyevsky \n",
      "The Kama Sutra of Vatsyayana by Vatsyayana \n",
      "Plays by Susan Glaspell \n",
      "The Hound of the Baskervilles by Arthur Conan Doyle \n",
      "The Prophet by Kahlil Gibran \n",
      "Nick Carter Stories No\n",
      "Dubliners by James Joyce \n",
      "The Scarlet Letter by Nathaniel Hawthorne \n",
      "The Republic by Plato \n",
      "Don Quixote by Miguel de Cervantes Saavedra \n",
      "Beyond Good and Evil by Friedrich Wilhelm Nietzsche \n",
      "The Time Machine by H\n",
      "Peter Pan by J\n",
      "David Copperfield by Charles Dickens \n",
      "Address of President Roosevelt at Cairo\n",
      "Oliver Twist by Charles Dickens \n",
      "Wuthering Heights by Emily Bront\n",
      "Winnie\n",
      "The Reign of Greed by Jos\n",
      "Walden\n",
      "Anna Karenina by graf Leo Tolstoy \n",
      "A Study in Scarlet by Arthur Conan Doyle \n",
      "Thus Spake Zarathustra\n",
      "The American Diary of a Japanese Girl by Yon\n",
      "The War of the Worlds by H\n",
      "The King James Version of the Bible \n",
      "Essays of Michel de Montaigne \n",
      "Siddhartha by Hermann Hesse \n",
      "The Jungle Book by Rudyard Kipling \n",
      "Old Granny Fox by Thornton W\n",
      "Uncle Tom\n",
      "The Southern Literary Messenger\n",
      "Meditations by Emperor of Rome Marcus Aurelius \n",
      "Moby Multiple Language Lists of Common Words by Grady Ward \n",
      "The Works of Edgar Allan Poe \n",
      "The Hollow Earth by F\n",
      "Gulliver\n",
      "Memoirs of Extraordinary Popular Delusions and the Madness of Crowds by Charles Mackay \n",
      "Notes from the Underground by Fyodor Dostoyevsky \n",
      "An Index of The Divine Comedy by Dante by Dante Alighieri \n",
      "Leviathan by Thomas Hobbes \n",
      "The Awakening\n",
      "Carmilla by Joseph Sheridan Le Fanu \n",
      "Pygmalion by Bernard Shaw \n",
      "Sense and Sensibility by Jane Austen \n",
      "Stories from the Iliad\n",
      "A Pickle for the Knowing Ones by Timothy Dexter \n"
     ]
    }
   ],
   "source": [
    "#Activity 9\n",
    "# Top 100 ebooks\n",
    "\n",
    "title=[]\n",
    "start_index=soup.text.splitlines().index('Top 100 EBooks yesterday')\n",
    "for i in range(100):\n",
    "    title.append(soup.text.splitlines()[start_index+2+i])\n",
    "    \n",
    "first100title=[]\n",
    "\n",
    "for i in range(100):\n",
    "    id1, id2=re.match('^[a-zA-Z ]*',title[i]).span()\n",
    "    first100title.append(title[i][id1:id2])\n",
    "    \n",
    "for l in first100title:\n",
    "    print(l)"
   ]
  },
  {
   "cell_type": "code",
   "execution_count": 131,
   "id": "54c683c8",
   "metadata": {},
   "outputs": [
    {
     "data": {
      "text/plain": [
       "'/Users/rajponnam/Documents/ds_course/DSC_540'"
      ]
     },
     "execution_count": 131,
     "metadata": {},
     "output_type": "execute_result"
    }
   ],
   "source": [
    "#Activity 10\n",
    "import json\n",
    "import os\n",
    "os.chdir('/Users/rajponnam/Documents/ds_course/DSC_540')\n",
    "os.getcwd()"
   ]
  },
  {
   "cell_type": "code",
   "execution_count": 140,
   "id": "584b9ec8",
   "metadata": {},
   "outputs": [],
   "source": [
    "serviceurl='http://www.omdbapi.com/?'\n",
    "apikey='&apikey='+'e81cc6ab'\n",
    "\n",
    "\n",
    "def print_json(json_data):\n",
    "    list_keys=['Title', 'Year', 'Rated', 'Released', 'Runtime', 'Genre', 'Director',\n",
    "              'Writer', 'Actors', 'Plot', 'Language', 'Country', 'Awards', 'Ratings', \n",
    "               'Metascore', 'imdbRating', 'imdbVotes', 'imdbId']\n",
    "    for k in list_keys:\n",
    "       if k in list(json_data.keys()):\n",
    "         print(f\"{k}:{json_data[k]}\")\n",
    "    "
   ]
  },
  {
   "cell_type": "code",
   "execution_count": 149,
   "id": "ac865616",
   "metadata": {},
   "outputs": [],
   "source": [
    "def save_poster(json_data):\n",
    "    title=json_data['Title']\n",
    "    poster_url= json_data['Poster']\n",
    "    poster_file_extension=poster_url.split('.')[-1]\n",
    "    poster_data=urllib.request.urlopen(poster_url).read()\n",
    "    savelocation=os.getcwd()+'\\\\'+'Posters'+'\\\\'\n",
    "    \n",
    "    if not os.path.isdir(savelocation):\n",
    "        os.mkdir(savelocation)\n",
    "    \n",
    "    filename=savelocation+str(title)+'.'+poster_file_extension\n",
    "    f=open(filename, 'wb')\n",
    "    f.write(poster_data)\n",
    "    f.close()"
   ]
  },
  {
   "cell_type": "code",
   "execution_count": 154,
   "id": "71b81d7a",
   "metadata": {},
   "outputs": [],
   "source": [
    "def search_movie(title):\n",
    "      try: \n",
    "        url = serviceurl+urllib.parse.urlencode({'t':str(title)})+apikey\n",
    "        print(f'Retreiving information for \"{title}\"')\n",
    "        print(url)\n",
    "        uh=urllib.request.urlopen(url)\n",
    "        data = uh.read()\n",
    "        json_data = json.loads(data)\n",
    "        \n",
    "        \n",
    "        if json_data['Response']=='True':\n",
    "            print_json(json_data)\n",
    "            if json_data['Poster']!='N/A':\n",
    "                save_poster(json_data)\n",
    "        else:\n",
    "           print(\"Error encountered: \", json_data['Error'])\n",
    "        \n",
    "      except urllib.error.URLError as e:\n",
    "           print(f\"ERROR: {e.reason}\")\n",
    "         \n",
    "       "
   ]
  },
  {
   "cell_type": "code",
   "execution_count": 156,
   "id": "0bc433c1",
   "metadata": {},
   "outputs": [
    {
     "name": "stdout",
     "output_type": "stream",
     "text": [
      "Retreiving information for \"Titanic\"\n",
      "http://www.omdbapi.com/?t=Titanic&apikey=e81cc6ab\n",
      "Title:Titanic\n",
      "Year:1997\n",
      "Rated:PG-13\n",
      "Released:19 Dec 1997\n",
      "Runtime:194 min\n",
      "Genre:Drama, Romance\n",
      "Director:James Cameron\n",
      "Writer:James Cameron\n",
      "Actors:Leonardo DiCaprio, Kate Winslet, Billy Zane\n",
      "Plot:A seventeen-year-old aristocrat falls in love with a kind but poor artist aboard the luxurious, ill-fated R.M.S. Titanic.\n",
      "Language:English, Swedish, Italian, French\n",
      "Country:United States, Mexico\n",
      "Awards:Won 11 Oscars. 125 wins & 83 nominations total\n",
      "Ratings:[{'Source': 'Internet Movie Database', 'Value': '7.9/10'}, {'Source': 'Rotten Tomatoes', 'Value': '87%'}, {'Source': 'Metacritic', 'Value': '75/100'}]\n",
      "Metascore:75\n",
      "imdbRating:7.9\n",
      "imdbVotes:1,131,404\n",
      "ERROR: [SSL: CERTIFICATE_VERIFY_FAILED] certificate verify failed: unable to get local issuer certificate (_ssl.c:1129)\n"
     ]
    }
   ],
   "source": [
    "#Retrieving information for Movie Titanic\n",
    "search_movie(\"Titanic\")"
   ]
  },
  {
   "cell_type": "code",
   "execution_count": 159,
   "id": "5c6005d8",
   "metadata": {},
   "outputs": [
    {
     "name": "stdout",
     "output_type": "stream",
     "text": [
      "Retreiving information for \"Random_error\"\n",
      "http://www.omdbapi.com/?t=Random_error&apikey=e81cc6ab\n",
      "Error encountered:  Movie not found!\n"
     ]
    }
   ],
   "source": [
    "search_movie(\"Random_error\")\n"
   ]
  },
  {
   "cell_type": "code",
   "execution_count": null,
   "id": "f1807edf",
   "metadata": {},
   "outputs": [],
   "source": []
  }
 ],
 "metadata": {
  "kernelspec": {
   "display_name": "Python 3 (ipykernel)",
   "language": "python",
   "name": "python3"
  },
  "language_info": {
   "codemirror_mode": {
    "name": "ipython",
    "version": 3
   },
   "file_extension": ".py",
   "mimetype": "text/x-python",
   "name": "python",
   "nbconvert_exporter": "python",
   "pygments_lexer": "ipython3",
   "version": "3.9.6"
  }
 },
 "nbformat": 4,
 "nbformat_minor": 5
}
