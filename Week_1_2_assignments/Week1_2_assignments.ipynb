{
 "cells": [
  {
   "cell_type": "code",
   "execution_count": 1,
   "id": "abf34877",
   "metadata": {},
   "outputs": [
    {
     "name": "stdout",
     "output_type": "stream",
     "text": [
      "[1, 500, 3, 65, 90]\n"
     ]
    }
   ],
   "source": [
    "# Create a list\n",
    "\n",
    "ls = [1, 500, 3, 65, 90]\n",
    "print(ls)"
   ]
  },
  {
   "cell_type": "code",
   "execution_count": 2,
   "id": "609a4222",
   "metadata": {},
   "outputs": [
    {
     "name": "stdout",
     "output_type": "stream",
     "text": [
      "[1, 3, 65, 90, 500]\n"
     ]
    }
   ],
   "source": [
    "# Sort the list\n",
    "\n",
    "ls.sort()\n",
    "print(ls)"
   ]
  },
  {
   "cell_type": "code",
   "execution_count": 4,
   "id": "93dd6876",
   "metadata": {},
   "outputs": [
    {
     "name": "stdout",
     "output_type": "stream",
     "text": [
      "Enter number of elements:2\n",
      "Randomised list is:  [1, 3, 65, 90, 500, 6, 8]\n"
     ]
    }
   ],
   "source": [
    "# List of random letters\n",
    "\n",
    "import random\n",
    "number=int(input(\"Enter number of elements:\"))\n",
    "for i in range(number):\n",
    "    ls.append(random.randint(1,20))\n",
    "print('Randomised list is: ',ls)"
   ]
  },
  {
   "cell_type": "code",
   "execution_count": 5,
   "id": "8fe77f00",
   "metadata": {},
   "outputs": [],
   "source": [
    "# Change the working directory \n",
    "\n",
    "import os\n",
    "os.chdir('/Users/rajponnam/Documents/ds_course/DSC_540')"
   ]
  },
  {
   "cell_type": "code",
   "execution_count": 7,
   "id": "6a097eb8",
   "metadata": {},
   "outputs": [
    {
     "data": {
      "text/html": [
       "<div>\n",
       "<style scoped>\n",
       "    .dataframe tbody tr th:only-of-type {\n",
       "        vertical-align: middle;\n",
       "    }\n",
       "\n",
       "    .dataframe tbody tr th {\n",
       "        vertical-align: top;\n",
       "    }\n",
       "\n",
       "    .dataframe thead th {\n",
       "        text-align: right;\n",
       "    }\n",
       "</style>\n",
       "<table border=\"1\" class=\"dataframe\">\n",
       "  <thead>\n",
       "    <tr style=\"text-align: right;\">\n",
       "      <th></th>\n",
       "      <th>Year</th>\n",
       "      <th>Population</th>\n",
       "    </tr>\n",
       "  </thead>\n",
       "  <tbody>\n",
       "    <tr>\n",
       "      <th>0</th>\n",
       "      <td>1960</td>\n",
       "      <td>3028654024</td>\n",
       "    </tr>\n",
       "    <tr>\n",
       "      <th>1</th>\n",
       "      <td>1961</td>\n",
       "      <td>3068356747</td>\n",
       "    </tr>\n",
       "    <tr>\n",
       "      <th>2</th>\n",
       "      <td>1962</td>\n",
       "      <td>3121963107</td>\n",
       "    </tr>\n",
       "    <tr>\n",
       "      <th>3</th>\n",
       "      <td>1963</td>\n",
       "      <td>3187471383</td>\n",
       "    </tr>\n",
       "    <tr>\n",
       "      <th>4</th>\n",
       "      <td>1964</td>\n",
       "      <td>3253112403</td>\n",
       "    </tr>\n",
       "  </tbody>\n",
       "</table>\n",
       "</div>"
      ],
      "text/plain": [
       "   Year  Population\n",
       "0  1960  3028654024\n",
       "1  1961  3068356747\n",
       "2  1962  3121963107\n",
       "3  1963  3187471383\n",
       "4  1964  3253112403"
      ]
     },
     "execution_count": 7,
     "metadata": {},
     "output_type": "execute_result"
    }
   ],
   "source": [
    "# Read the world -population excel file\n",
    "\n",
    "import pandas as pd\n",
    "wp_df = pd.read_excel ('world-population.xlsm')\n",
    "wp_df.head()"
   ]
  },
  {
   "cell_type": "code",
   "execution_count": 8,
   "id": "3fa817bd",
   "metadata": {},
   "outputs": [
    {
     "data": {
      "image/png": "[encoded data removed]",
      "text/plain": [
       "<Figure size 432x288 with 1 Axes>"
      ]
     },
     "metadata": {
      "needs_background": "light"
     },
     "output_type": "display_data"
    }
   ],
   "source": [
    "# Draw the plot\n",
    "\n",
    "import matplotlib.pyplot as plt\n",
    "\n",
    "wp_df.plot(kind='line',x='Year',y='Population')\n",
    "plt.title('Population by Year')\n",
    "plt.show()"
   ]
  },
  {
   "cell_type": "code",
   "execution_count": 9,
   "id": "ca8e4408",
   "metadata": {},
   "outputs": [
    {
     "name": "stdout",
     "output_type": "stream",
     "text": [
      "[25, 22, 88, 80, 76, 5, 47, 65, 25, 86, 39, 71, 33, 80, 86, 55, 54, 54, 47, 100, 1, 53, 72, 6, 8, 85, 100, 84, 11, 83, 24, 65, 37, 38, 32, 52, 69, 49, 72, 17, 22, 42, 14, 18, 70, 89, 13, 31, 67, 4, 36, 42, 22, 4, 62, 43, 73, 20, 25, 85, 20, 27, 73, 67, 37, 94, 6, 86, 4, 56, 68, 6, 38, 55, 12, 33, 47, 48, 80, 31, 95, 16, 7, 38, 46, 29, 96, 41, 99, 87, 29, 78, 5, 92, 30, 96, 100, 16, 45, 9]\n"
     ]
    }
   ],
   "source": [
    "# Activity 1 - Create a list with random numbers\n",
    "\n",
    "ls=[]\n",
    "for i in range(100):\n",
    "    ls.append(random.randint(1,100))\n",
    "print(ls)"
   ]
  },
  {
   "cell_type": "code",
   "execution_count": 16,
   "id": "ea1d3946",
   "metadata": {},
   "outputs": [
    {
     "name": "stdout",
     "output_type": "stream",
     "text": [
      "22.0\n"
     ]
    }
   ],
   "source": [
    "# Activity 1\n",
    "import random\n",
    "ls=[]\n",
    "for i in range(100):\n",
    "    # List with random numbers\n",
    "    ls.append(random.randint(1,100)) \n",
    "    \n",
    "    \n",
    "x=1\n",
    "ls_len_diff = None\n",
    "while x<=3: \n",
    "    ls_div3 =[]\n",
    "    for i in ls:\n",
    "        if i%3==0:\n",
    "            # List with subset of numbers from ls that are divisible by 3\n",
    "            ls_div3.append(i) \n",
    "        ls_len_diff=0\n",
    "        #Avg of length diff between the two lists \n",
    "        ls_len_diff=(ls_len_diff+(len(ls)-len(ls_div3)))/x \n",
    "    x+=1\n",
    "print(ls_len_diff)"
   ]
  },
  {
   "cell_type": "code",
   "execution_count": 17,
   "id": "eba02e94",
   "metadata": {},
   "outputs": [],
   "source": [
    "#Activity 2 - Read a multiline text\n",
    "\n",
    "mutiline_text = \"\"\"It is a truth universally acknowledged, that a single man in possession of a good fortune, must be in want of a wife.\n",
    "\n",
    "However little known the feelings or views of such a man may be on his first entering a neighbourhood, this truth is so well fixed in the minds of the surrounding families, that he is considered the rightful property of some one or other of their daughters.\n",
    "\n",
    "\"My dear Mr. Bennet,\" said his lady to him one day, \"have you heard that Netherfield Park is let at last?\"\n",
    "\n",
    "Mr. Bennet replied that he had not.\n",
    "\n",
    "\"But it is,\" returned she; \"for Mrs. Long has just been here, and she told me all about it.\"\n",
    "\n",
    "Mr. Bennet made no answer.\n",
    "\n",
    "\"Do you not want to know who has taken it?\" cried his wife impatiently.\n",
    "\n",
    "\"You want to tell me, and I have no objection to hearing it.\"\n",
    "\n",
    "This was invitation enough.\n",
    "\n",
    "\"Why, my dear, you must know, Mrs. Long says that Netherfield is taken by a young man of large fortune from the north of England; that he came down on Monday in a chaise and four to see the place, and was so much delighted with it, that he agreed with Mr. Morris immediately; that he is to take possession before Michaelmas, and some of his servants are to be in the house by the end of next week.\"\n",
    "\n",
    "\"What is his name?\"\n",
    "\n",
    "\"Bingley.\"\n",
    "\n",
    "\"Is he married or single?\"\n",
    "\n",
    "\"Oh! Single, my dear, to be sure! A single man of large fortune; four or five thousand a year. What a fine thing for our girls!\"\n",
    "\n",
    "\"How so? How can it affect them?\"\n",
    "\n",
    "\"My dear Mr. Bennet,\" replied his wife, \"how can you be so tiresome! You must know that I am thinking of his marrying one of them.\"\n",
    "\n",
    "\"Is that his design in settling here?\"\n",
    "\n",
    "\"Design! Nonsense, how can you talk so! But it is very likely that he may fall in love with one of them, and therefore you must visit him as soon as he comes.\"\n",
    "\n",
    "\"I see no occasion for that. You and the girls may go, or you may send them by themselves, which perhaps will be still better, for as you are as handsome as any of them, Mr. Bingley may like you the best of the party.\"\n",
    "\n",
    "\"My dear, you flatter me. I certainly have had my share of beauty, but I do not pretend to be anything extraordinary now. When a woman has five grown-up daughters, she ought to give over thinking of her own beauty.\"\n",
    "\n",
    "\"In such cases, a woman has not often much beauty to think of.\"\n",
    "\n",
    "\"But, my dear, you must indeed go and see Mr. Bingley when he comes into the neighbourhood.\"\n",
    "\n",
    "\"It is more than I engage for, I assure you.\"\n",
    "\n",
    "\"But consider your daughters. Only think what an establishment it would be for one of them. Sir William and Lady Lucas are determined to go, merely on that account, for in general, you know, they visit no newcomers. Indeed you must go, for it will be impossible for us to visit him if you do not.\"\n",
    "\n",
    "\"You are over-scrupulous, surely. I dare say Mr. Bingley will be very glad to see you; and I will send a few lines by you to assure him of my hearty consent to his marrying whichever he chooses of the girls; though I must throw in a good word for my little Lizzy.\"\n",
    "\n",
    "\"I desire you will do no such thing. Lizzy is not a bit better than the others; and I am sure she is not half so handsome as Jane, nor half so good-humoured as Lydia. But you are always giving her the preference.\"\n",
    "\n",
    "\"They have none of them much to recommend them,\" replied he; \"they are all silly and ignorant like other girls; but Lizzy has something more of quickness than her sisters.\"\n",
    "\n",
    "\"Mr. Bennet, how can you abuse your own children in such a way? You take delight in vexing me. You have no compassion for my poor nerves.\"\n",
    "\n",
    "\"You mistake me, my dear. I have a high respect for your nerves. They are my old friends. I have heard you mention them with consideration these last twenty years at least.\"\n",
    "\n",
    "\"Ah, you do not know what I suffer.\"\n",
    "\n",
    "\"But I hope you will get over it, and live to see many young men of four thousand a year come into the neighbourhood.\"\n",
    "\n",
    "\"It will be no use to us, if twenty such should come, since you will not visit them.\"\n",
    "\n",
    "\"Depend upon it, my dear, that when there are twenty, I will visit them all.\"\n",
    "\n",
    "Mr. Bennet was so odd a mixture of quick parts, sarcastic humour, reserve, and caprice, that the experience of three-and-twenty years had been insufficient to make his wife understand his character. Her mind was less difficult to develop. She was a woman of mean understanding, little information, and uncertain temper. When she was discontented, she fancied herself nervous. The business of her life was to get her daughters married; its solace was visiting and news. \"\"\""
   ]
  },
  {
   "cell_type": "code",
   "execution_count": 19,
   "id": "a7f140fd",
   "metadata": {},
   "outputs": [
    {
     "data": {
      "text/plain": [
       "str"
      ]
     },
     "execution_count": 19,
     "metadata": {},
     "output_type": "execute_result"
    }
   ],
   "source": [
    "# Activity 2\n",
    "# Type of the multiline text\n",
    "\n",
    "type(mutiline_text) "
   ]
  },
  {
   "cell_type": "code",
   "execution_count": 20,
   "id": "1ac6a989",
   "metadata": {},
   "outputs": [
    {
     "data": {
      "text/plain": [
       "4475"
      ]
     },
     "execution_count": 20,
     "metadata": {},
     "output_type": "execute_result"
    }
   ],
   "source": [
    "# Activity 2\n",
    "# Length of the multiline text\n",
    "len(mutiline_text) "
   ]
  },
  {
   "cell_type": "code",
   "execution_count": 21,
   "id": "b4490d6b",
   "metadata": {},
   "outputs": [
    {
     "name": "stdout",
     "output_type": "stream",
     "text": [
      "It is a truth universally acknowledged, that a single man in possession of a good fortune, must be in want of a wife.However little known the feelings or views of such a man may be on his first entering a neighbourhood, this truth is so well fixed in the minds of the surrounding families, that he is considered the rightful property of some one or other of their daughters.\"My dear Mr. Bennet,\" said his lady to him one day, \"have you heard that Netherfield Park is let at last?\"Mr. Bennet replied that he had not.\"But it is,\" returned she; \"for Mrs. Long has just been here, and she told me all about it.\"Mr. Bennet made no answer.\"Do you not want to know who has taken it?\" cried his wife impatiently.\"You want to tell me, and I have no objection to hearing it.\"This was invitation enough.\"Why, my dear, you must know, Mrs. Long says that Netherfield is taken by a young man of large fortune from the north of England; that he came down on Monday in a chaise and four to see the place, and was so much delighted with it, that he agreed with Mr. Morris immediately; that he is to take possession before Michaelmas, and some of his servants are to be in the house by the end of next week.\"\"What is his name?\"\"Bingley.\"\"Is he married or single?\"\"Oh! Single, my dear, to be sure! A single man of large fortune; four or five thousand a year. What a fine thing for our girls!\"\"How so? How can it affect them?\"\"My dear Mr. Bennet,\" replied his wife, \"how can you be so tiresome! You must know that I am thinking of his marrying one of them.\"\"Is that his design in settling here?\"\"Design! Nonsense, how can you talk so! But it is very likely that he may fall in love with one of them, and therefore you must visit him as soon as he comes.\"\"I see no occasion for that. You and the girls may go, or you may send them by themselves, which perhaps will be still better, for as you are as handsome as any of them, Mr. Bingley may like you the best of the party.\"\"My dear, you flatter me. I certainly have had my share of beauty, but I do not pretend to be anything extraordinary now. When a woman has five grown-up daughters, she ought to give over thinking of her own beauty.\"\"In such cases, a woman has not often much beauty to think of.\"\"But, my dear, you must indeed go and see Mr. Bingley when he comes into the neighbourhood.\"\"It is more than I engage for, I assure you.\"\"But consider your daughters. Only think what an establishment it would be for one of them. Sir William and Lady Lucas are determined to go, merely on that account, for in general, you know, they visit no newcomers. Indeed you must go, for it will be impossible for us to visit him if you do not.\"\"You are over-scrupulous, surely. I dare say Mr. Bingley will be very glad to see you; and I will send a few lines by you to assure him of my hearty consent to his marrying whichever he chooses of the girls; though I must throw in a good word for my little Lizzy.\"\"I desire you will do no such thing. Lizzy is not a bit better than the others; and I am sure she is not half so handsome as Jane, nor half so good-humoured as Lydia. But you are always giving her the preference.\"\"They have none of them much to recommend them,\" replied he; \"they are all silly and ignorant like other girls; but Lizzy has something more of quickness than her sisters.\"\"Mr. Bennet, how can you abuse your own children in such a way? You take delight in vexing me. You have no compassion for my poor nerves.\"\"You mistake me, my dear. I have a high respect for your nerves. They are my old friends. I have heard you mention them with consideration these last twenty years at least.\"\"Ah, you do not know what I suffer.\"\"But I hope you will get over it, and live to see many young men of four thousand a year come into the neighbourhood.\"\"It will be no use to us, if twenty such should come, since you will not visit them.\"\"Depend upon it, my dear, that when there are twenty, I will visit them all.\"Mr. Bennet was so odd a mixture of quick parts, sarcastic humour, reserve, and caprice, that the experience of three-and-twenty years had been insufficient to make his wife understand his character. Her mind was less difficult to develop. She was a woman of mean understanding, little information, and uncertain temper. When she was discontented, she fancied herself nervous. The business of her life was to get her daughters married; its solace was visiting and news. \n"
     ]
    }
   ],
   "source": [
    "# Activity 2\n",
    "# Remove new lines and quotes\n",
    "mutiline_text = mutiline_text.replace('\\n', \"\") \n",
    "print(mutiline_text)"
   ]
  },
  {
   "cell_type": "code",
   "execution_count": 22,
   "id": "a12b4e15",
   "metadata": {},
   "outputs": [
    {
     "name": "stdout",
     "output_type": "stream",
     "text": [
      "It is a truth universally acknowledged  that a single man in possession of a good fortune  must be in want of a wife However little known the feelings or views of such a man may be on his first entering a neighbourhood  this truth is so well fixed in the minds of the surrounding families  that he is considered the rightful property of some one or other of their daughters  My dear Mr  Bennet   said his lady to him one day   have you heard that Netherfield Park is let at last  Mr  Bennet replied that he had not  But it is   returned she   for Mrs  Long has just been here  and she told me all about it  Mr  Bennet made no answer  Do you not want to know who has taken it   cried his wife impatiently  You want to tell me  and I have no objection to hearing it  This was invitation enough  Why  my dear  you must know  Mrs  Long says that Netherfield is taken by a young man of large fortune from the north of England  that he came down on Monday in a chaise and four to see the place  and was so much delighted with it  that he agreed with Mr  Morris immediately  that he is to take possession before Michaelmas  and some of his servants are to be in the house by the end of next week   What is his name   Bingley   Is he married or single   Oh  Single  my dear  to be sure  A single man of large fortune  four or five thousand a year  What a fine thing for our girls   How so  How can it affect them   My dear Mr  Bennet   replied his wife   how can you be so tiresome  You must know that I am thinking of his marrying one of them   Is that his design in settling here   Design  Nonsense  how can you talk so  But it is very likely that he may fall in love with one of them  and therefore you must visit him as soon as he comes   I see no occasion for that  You and the girls may go  or you may send them by themselves  which perhaps will be still better  for as you are as handsome as any of them  Mr  Bingley may like you the best of the party   My dear  you flatter me  I certainly have had my share of beauty  but I do not pretend to be anything extraordinary now  When a woman has five grown up daughters  she ought to give over thinking of her own beauty   In such cases  a woman has not often much beauty to think of   But  my dear  you must indeed go and see Mr  Bingley when he comes into the neighbourhood   It is more than I engage for  I assure you   But consider your daughters  Only think what an establishment it would be for one of them  Sir William and Lady Lucas are determined to go  merely on that account  for in general  you know  they visit no newcomers  Indeed you must go  for it will be impossible for us to visit him if you do not   You are over scrupulous  surely  I dare say Mr  Bingley will be very glad to see you  and I will send a few lines by you to assure him of my hearty consent to his marrying whichever he chooses of the girls  though I must throw in a good word for my little Lizzy   I desire you will do no such thing  Lizzy is not a bit better than the others  and I am sure she is not half so handsome as Jane  nor half so good humoured as Lydia  But you are always giving her the preference   They have none of them much to recommend them   replied he   they are all silly and ignorant like other girls  but Lizzy has something more of quickness than her sisters   Mr  Bennet  how can you abuse your own children in such a way  You take delight in vexing me  You have no compassion for my poor nerves   You mistake me  my dear  I have a high respect for your nerves  They are my old friends  I have heard you mention them with consideration these last twenty years at least   Ah  you do not know what I suffer   But I hope you will get over it  and live to see many young men of four thousand a year come into the neighbourhood   It will be no use to us  if twenty such should come  since you will not visit them   Depend upon it  my dear  that when there are twenty  I will visit them all  Mr  Bennet was so odd a mixture of quick parts  sarcastic humour  reserve  and caprice  that the experience of three and twenty years had been insufficient to make his wife understand his character  Her mind was less difficult to develop  She was a woman of mean understanding  little information  and uncertain temper  When she was discontented  she fancied herself nervous  The business of her life was to get her daughters married  its solace was visiting and news  \n"
     ]
    }
   ],
   "source": [
    "# Activity 2 - Remove special characters\n",
    "multiline_text_refined = \"\"\n",
    "for x in mutiline_text:\n",
    "    if x == \" \":\n",
    "        multiline_text_refined += x\n",
    "    # using the isalnum() method of strings.\n",
    "    elif x.isalnum():  \n",
    "        multiline_text_refined += x\n",
    "    else:\n",
    "        multiline_text_refined += \" \"\n",
    "\n",
    "print(multiline_text_refined)"
   ]
  },
  {
   "cell_type": "code",
   "execution_count": 23,
   "id": "6da9167d",
   "metadata": {},
   "outputs": [
    {
     "name": "stdout",
     "output_type": "stream",
     "text": [
      "['It', 'is', 'a', 'truth', 'universally', 'acknowledged', 'that', 'a', 'single', 'man', 'in', 'possession', 'of', 'a', 'good', 'fortune', 'must', 'be', 'in', 'want', 'of', 'a', 'wife', 'However', 'little', 'known', 'the', 'feelings', 'or', 'views', 'of', 'such', 'a', 'man', 'may', 'be', 'on', 'his', 'first', 'entering', 'a', 'neighbourhood', 'this', 'truth', 'is', 'so', 'well', 'fixed', 'in', 'the', 'minds', 'of', 'the', 'surrounding', 'families', 'that', 'he', 'is', 'considered', 'the', 'rightful', 'property', 'of', 'some', 'one', 'or', 'other', 'of', 'their', 'daughters', 'My', 'dear', 'Mr', 'Bennet', 'said', 'his', 'lady', 'to', 'him', 'one', 'day', 'have', 'you', 'heard', 'that', 'Netherfield', 'Park', 'is', 'let', 'at', 'last', 'Mr', 'Bennet', 'replied', 'that', 'he', 'had', 'not', 'But', 'it', 'is', 'returned', 'she', 'for', 'Mrs', 'Long', 'has', 'just', 'been', 'here', 'and', 'she', 'told', 'me', 'all', 'about', 'it', 'Mr', 'Bennet', 'made', 'no', 'answer', 'Do', 'you', 'not', 'want', 'to', 'know', 'who', 'has', 'taken', 'it', 'cried', 'his', 'wife', 'impatiently', 'You', 'want', 'to', 'tell', 'me', 'and', 'I', 'have', 'no', 'objection', 'to', 'hearing', 'it', 'This', 'was', 'invitation', 'enough', 'Why', 'my', 'dear', 'you', 'must', 'know', 'Mrs', 'Long', 'says', 'that', 'Netherfield', 'is', 'taken', 'by', 'a', 'young', 'man', 'of', 'large', 'fortune', 'from', 'the', 'north', 'of', 'England', 'that', 'he', 'came', 'down', 'on', 'Monday', 'in', 'a', 'chaise', 'and', 'four', 'to', 'see', 'the', 'place', 'and', 'was', 'so', 'much', 'delighted', 'with', 'it', 'that', 'he', 'agreed', 'with', 'Mr', 'Morris', 'immediately', 'that', 'he', 'is', 'to', 'take', 'possession', 'before', 'Michaelmas', 'and', 'some', 'of', 'his', 'servants', 'are', 'to', 'be', 'in', 'the', 'house', 'by', 'the', 'end', 'of', 'next', 'week', 'What', 'is', 'his', 'name', 'Bingley', 'Is', 'he', 'married', 'or', 'single', 'Oh', 'Single', 'my', 'dear', 'to', 'be', 'sure', 'A', 'single', 'man', 'of', 'large', 'fortune', 'four', 'or', 'five', 'thousand', 'a', 'year', 'What', 'a', 'fine', 'thing', 'for', 'our', 'girls', 'How', 'so', 'How', 'can', 'it', 'affect', 'them', 'My', 'dear', 'Mr', 'Bennet', 'replied', 'his', 'wife', 'how', 'can', 'you', 'be', 'so', 'tiresome', 'You', 'must', 'know', 'that', 'I', 'am', 'thinking', 'of', 'his', 'marrying', 'one', 'of', 'them', 'Is', 'that', 'his', 'design', 'in', 'settling', 'here', 'Design', 'Nonsense', 'how', 'can', 'you', 'talk', 'so', 'But', 'it', 'is', 'very', 'likely', 'that', 'he', 'may', 'fall', 'in', 'love', 'with', 'one', 'of', 'them', 'and', 'therefore', 'you', 'must', 'visit', 'him', 'as', 'soon', 'as', 'he', 'comes', 'I', 'see', 'no', 'occasion', 'for', 'that', 'You', 'and', 'the', 'girls', 'may', 'go', 'or', 'you', 'may', 'send', 'them', 'by', 'themselves', 'which', 'perhaps', 'will', 'be', 'still', 'better', 'for', 'as', 'you', 'are', 'as', 'handsome', 'as', 'any', 'of', 'them', 'Mr', 'Bingley', 'may', 'like', 'you', 'the', 'best', 'of', 'the', 'party', 'My', 'dear', 'you', 'flatter', 'me', 'I', 'certainly', 'have', 'had', 'my', 'share', 'of', 'beauty', 'but', 'I', 'do', 'not', 'pretend', 'to', 'be', 'anything', 'extraordinary', 'now', 'When', 'a', 'woman', 'has', 'five', 'grown', 'up', 'daughters', 'she', 'ought', 'to', 'give', 'over', 'thinking', 'of', 'her', 'own', 'beauty', 'In', 'such', 'cases', 'a', 'woman', 'has', 'not', 'often', 'much', 'beauty', 'to', 'think', 'of', 'But', 'my', 'dear', 'you', 'must', 'indeed', 'go', 'and', 'see', 'Mr', 'Bingley', 'when', 'he', 'comes', 'into', 'the', 'neighbourhood', 'It', 'is', 'more', 'than', 'I', 'engage', 'for', 'I', 'assure', 'you', 'But', 'consider', 'your', 'daughters', 'Only', 'think', 'what', 'an', 'establishment', 'it', 'would', 'be', 'for', 'one', 'of', 'them', 'Sir', 'William', 'and', 'Lady', 'Lucas', 'are', 'determined', 'to', 'go', 'merely', 'on', 'that', 'account', 'for', 'in', 'general', 'you', 'know', 'they', 'visit', 'no', 'newcomers', 'Indeed', 'you', 'must', 'go', 'for', 'it', 'will', 'be', 'impossible', 'for', 'us', 'to', 'visit', 'him', 'if', 'you', 'do', 'not', 'You', 'are', 'over', 'scrupulous', 'surely', 'I', 'dare', 'say', 'Mr', 'Bingley', 'will', 'be', 'very', 'glad', 'to', 'see', 'you', 'and', 'I', 'will', 'send', 'a', 'few', 'lines', 'by', 'you', 'to', 'assure', 'him', 'of', 'my', 'hearty', 'consent', 'to', 'his', 'marrying', 'whichever', 'he', 'chooses', 'of', 'the', 'girls', 'though', 'I', 'must', 'throw', 'in', 'a', 'good', 'word', 'for', 'my', 'little', 'Lizzy', 'I', 'desire', 'you', 'will', 'do', 'no', 'such', 'thing', 'Lizzy', 'is', 'not', 'a', 'bit', 'better', 'than', 'the', 'others', 'and', 'I', 'am', 'sure', 'she', 'is', 'not', 'half', 'so', 'handsome', 'as', 'Jane', 'nor', 'half', 'so', 'good', 'humoured', 'as', 'Lydia', 'But', 'you', 'are', 'always', 'giving', 'her', 'the', 'preference', 'They', 'have', 'none', 'of', 'them', 'much', 'to', 'recommend', 'them', 'replied', 'he', 'they', 'are', 'all', 'silly', 'and', 'ignorant', 'like', 'other', 'girls', 'but', 'Lizzy', 'has', 'something', 'more', 'of', 'quickness', 'than', 'her', 'sisters', 'Mr', 'Bennet', 'how', 'can', 'you', 'abuse', 'your', 'own', 'children', 'in', 'such', 'a', 'way', 'You', 'take', 'delight', 'in', 'vexing', 'me', 'You', 'have', 'no', 'compassion', 'for', 'my', 'poor', 'nerves', 'You', 'mistake', 'me', 'my', 'dear', 'I', 'have', 'a', 'high', 'respect', 'for', 'your', 'nerves', 'They', 'are', 'my', 'old', 'friends', 'I', 'have', 'heard', 'you', 'mention', 'them', 'with', 'consideration', 'these', 'last', 'twenty', 'years', 'at', 'least', 'Ah', 'you', 'do', 'not', 'know', 'what', 'I', 'suffer', 'But', 'I', 'hope', 'you', 'will', 'get', 'over', 'it', 'and', 'live', 'to', 'see', 'many', 'young', 'men', 'of', 'four', 'thousand', 'a', 'year', 'come', 'into', 'the', 'neighbourhood', 'It', 'will', 'be', 'no', 'use', 'to', 'us', 'if', 'twenty', 'such', 'should', 'come', 'since', 'you', 'will', 'not', 'visit', 'them', 'Depend', 'upon', 'it', 'my', 'dear', 'that', 'when', 'there', 'are', 'twenty', 'I', 'will', 'visit', 'them', 'all', 'Mr', 'Bennet', 'was', 'so', 'odd', 'a', 'mixture', 'of', 'quick', 'parts', 'sarcastic', 'humour', 'reserve', 'and', 'caprice', 'that', 'the', 'experience', 'of', 'three', 'and', 'twenty', 'years', 'had', 'been', 'insufficient', 'to', 'make', 'his', 'wife', 'understand', 'his', 'character', 'Her', 'mind', 'was', 'less', 'difficult', 'to', 'develop', 'She', 'was', 'a', 'woman', 'of', 'mean', 'understanding', 'little', 'information', 'and', 'uncertain', 'temper', 'When', 'she', 'was', 'discontented', 'she', 'fancied', 'herself', 'nervous', 'The', 'business', 'of', 'her', 'life', 'was', 'to', 'get', 'her', 'daughters', 'married', 'its', 'solace', 'was', 'visiting', 'and', 'news']\n"
     ]
    }
   ],
   "source": [
    "words = multiline_text_refined.split()\n",
    "print(words)"
   ]
  },
  {
   "cell_type": "code",
   "execution_count": 24,
   "id": "33de7a5a",
   "metadata": {},
   "outputs": [
    {
     "name": "stdout",
     "output_type": "stream",
     "text": [
      "['mistake', 'other', 'Mrs', 'bit', 'at', 'sure', 'think', 'will', 'It', 'Why', 'may', 'suffer', 'This', 'desire', 'girls', 'visiting', 'north', 'you', 'flatter', 'Her', 'neighbourhood', 'there', 'way', 'for', 'now', 'told', 'handsome', 'soon', 'let', 'these', 'years', 'she', 'they', 'rightful', 'ignorant', 'be', 'lines', 'me', 'Only', 'replied', 'something', 'has', 'feelings', 'mean', 'daughters', 'should', 'less', 'Jane', 'humour', 'half', 'likely', 'as', 'want', 'impatiently', 'one', 'from', 'taken', 'chooses', 'with', 'understanding', 'But', 'sisters', 'come', 'here', 'just', 'fixed', 'throw', 'large', 'invitation', 'is', 'single', 'thousand', 'very', 'so', 'well', 'preference', 'fall', 'had', 'said', 'men', 'made', 'Michaelmas', 'thing', 'servants', 'Nonsense', 'insufficient', 'its', 'if', 'ought', 'Morris', 'anything', 'What', 'caprice', 'his', 'say', 'quick', 'upon', 'use', 'get', 'twenty', 'experience', 'no', 'fortune', 'an', 'send', 'old', 'known', 'who', 'my', 'best', 'next', 'settling', 'returned', 'of', 'giving', 'first', 'hearing', 'uncertain', 'affect', 'objection', 'though', 'her', 'take', 'wife', 'temper', 'general', 'determined', 'occasion', 'can', 'us', 'nerves', 'more', 'answer', 'I', 'end', 'nor', 'married', 'respect', 'truth', 'poor', 'name', 'Single', 'property', 'Do', 'agreed', 'Depend', 'see', 'when', 'not', 'Lucas', 'beauty', 'silly', 'consider', 'hearty', 'have', 'Mr', 'share', 'glad', 'house', 'on', 'families', 'day', 'mixture', 'immediately', 'do', 'am', 'news', 'four', 'live', 'over', 'it', 'about', 'life', 'their', 'develop', 'sarcastic', 'Ah', 'difficult', 'up', 'discontented', 'lady', 'considered', 'came', 'and', 'place', 'often', 'Lizzy', 'odd', 'which', 'entering', 'England', 'newcomers', 'few', 'engage', 'must', 'certainly', 'like', 'friends', 'to', 'others', 'humoured', 'Oh', 'scrupulous', 'My', 'tell', 'merely', 'When', 'herself', 'solace', 'are', 'them', 'year', 'says', 'In', 'give', 'mind', 'good', 'children', 'universally', 'he', 'abuse', 'perhaps', 'assure', 'recommend', 'parts', 'reserve', 'thinking', 'extraordinary', 'comes', 'acknowledged', 'always', 'little', 'establishment', 'Long', 'quickness', 'word', 'whichever', 'understand', 'some', 'man', 'him', 'marrying', 'Monday', 'Netherfield', 'business', 'surrounding', 'much', 'since', 'information', 'minds', 'The', 'chaise', 'She', 'views', 'You', 'nervous', 'hope', 'been', 'better', 'our', 'consent', 'know', 'Indeed', 'the', 'was', 'delighted', 'Design', 'talk', 'none', 'Sir', 'in', 'visit', 'indeed', 'three', 'all', 'mention', 'party', 'They', 'than', 'consideration', 'Is', 'Park', 'grown', 'Bennet', 'dear', 'Lady', 'five', 'heard', 'any', 'would', 'pretend', 'A', 'cried', 'such', 'surely', 'week', 'go', 'character', 'design', 'own', 'woman', 'a', 'what', 'However', 'possession', 'delight', 'make', 'impossible', 'high', 'that', 'how', 'your', 'themselves', 'many', 'before', 'compassion', 'into', 'or', 'least', 'tiresome', 'still', 'fancied', 'therefore', 'fine', 'enough', 'love', 'How', 'down', 'by', 'Lydia', 'young', 'Bingley', 'account', 'this', 'last', 'but', 'William', 'dare', 'cases', 'vexing']\n"
     ]
    }
   ],
   "source": [
    "# Activity 2 - Unique words in the list\n",
    "unique_wordlist=list(set(words))\n",
    "print(unique_wordlist)"
   ]
  },
  {
   "cell_type": "code",
   "execution_count": 25,
   "id": "8992f681",
   "metadata": {},
   "outputs": [
    {
     "name": "stdout",
     "output_type": "stream",
     "text": [
      "It: 3\n",
      "is: 12\n",
      "a: 20\n",
      "truth: 2\n",
      "universally: 1\n",
      "acknowledged: 1\n",
      "that: 15\n",
      "single: 3\n",
      "man: 4\n",
      "in: 11\n",
      "possession: 2\n",
      "of: 29\n",
      "good: 3\n",
      "fortune: 3\n",
      "must: 7\n",
      "be: 11\n",
      "want: 3\n",
      "wife: 4\n",
      "However: 1\n",
      "little: 3\n",
      "known: 1\n",
      "the: 17\n",
      "feelings: 1\n",
      "or: 5\n",
      "views: 1\n",
      "such: 5\n",
      "may: 5\n",
      "on: 3\n",
      "his: 11\n",
      "first: 1\n",
      "entering: 1\n",
      "neighbourhood: 3\n",
      "this: 1\n",
      "so: 8\n",
      "well: 1\n",
      "fixed: 1\n",
      "minds: 1\n",
      "surrounding: 1\n",
      "families: 1\n",
      "he: 11\n",
      "considered: 1\n",
      "rightful: 1\n",
      "property: 1\n",
      "some: 2\n",
      "one: 5\n",
      "other: 2\n",
      "their: 1\n",
      "daughters: 4\n",
      "My: 3\n",
      "dear: 8\n",
      "Mr: 10\n",
      "Bennet: 6\n",
      "said: 1\n",
      "lady: 1\n",
      "to: 22\n",
      "him: 4\n",
      "day: 1\n",
      "have: 7\n",
      "you: 24\n",
      "heard: 2\n",
      "Netherfield: 2\n",
      "Park: 1\n",
      "let: 1\n",
      "at: 2\n",
      "last: 2\n",
      "replied: 3\n",
      "had: 3\n",
      "not: 9\n",
      "But: 6\n",
      "it: 11\n",
      "returned: 1\n",
      "she: 6\n",
      "for: 12\n",
      "Mrs: 2\n",
      "Long: 2\n",
      "has: 5\n",
      "just: 1\n",
      "been: 2\n",
      "here: 2\n",
      "and: 17\n",
      "told: 1\n",
      "me: 5\n",
      "all: 3\n",
      "about: 1\n",
      "made: 1\n",
      "no: 7\n",
      "answer: 1\n",
      "Do: 1\n",
      "know: 5\n",
      "who: 1\n",
      "taken: 2\n",
      "cried: 1\n",
      "impatiently: 1\n",
      "You: 7\n",
      "tell: 1\n",
      "I: 17\n",
      "objection: 1\n",
      "hearing: 1\n",
      "This: 1\n",
      "was: 8\n",
      "invitation: 1\n",
      "enough: 1\n",
      "Why: 1\n",
      "my: 10\n",
      "says: 1\n",
      "by: 4\n",
      "young: 2\n",
      "large: 2\n",
      "from: 1\n",
      "north: 1\n",
      "England: 1\n",
      "came: 1\n",
      "down: 1\n",
      "Monday: 1\n",
      "chaise: 1\n",
      "four: 3\n",
      "see: 5\n",
      "place: 1\n",
      "much: 3\n",
      "delighted: 1\n",
      "with: 4\n",
      "agreed: 1\n",
      "Morris: 1\n",
      "immediately: 1\n",
      "take: 2\n",
      "before: 1\n",
      "Michaelmas: 1\n",
      "servants: 1\n",
      "are: 8\n",
      "house: 1\n",
      "end: 1\n",
      "next: 1\n",
      "week: 1\n",
      "What: 2\n",
      "name: 1\n",
      "Bingley: 4\n",
      "Is: 2\n",
      "married: 2\n",
      "Oh: 1\n",
      "Single: 1\n",
      "sure: 2\n",
      "A: 1\n",
      "five: 2\n",
      "thousand: 2\n",
      "year: 2\n",
      "fine: 1\n",
      "thing: 2\n",
      "our: 1\n",
      "girls: 4\n",
      "How: 2\n",
      "can: 4\n",
      "affect: 1\n",
      "them: 11\n",
      "how: 3\n",
      "tiresome: 1\n",
      "am: 2\n",
      "thinking: 2\n",
      "marrying: 2\n",
      "design: 1\n",
      "settling: 1\n",
      "Design: 1\n",
      "Nonsense: 1\n",
      "talk: 1\n",
      "very: 2\n",
      "likely: 1\n",
      "fall: 1\n",
      "love: 1\n",
      "therefore: 1\n",
      "visit: 5\n",
      "as: 7\n",
      "soon: 1\n",
      "comes: 2\n",
      "occasion: 1\n",
      "go: 4\n",
      "send: 2\n",
      "themselves: 1\n",
      "which: 1\n",
      "perhaps: 1\n",
      "will: 9\n",
      "still: 1\n",
      "better: 2\n",
      "handsome: 2\n",
      "any: 1\n",
      "like: 2\n",
      "best: 1\n",
      "party: 1\n",
      "flatter: 1\n",
      "certainly: 1\n",
      "share: 1\n",
      "beauty: 3\n",
      "but: 2\n",
      "do: 4\n",
      "pretend: 1\n",
      "anything: 1\n",
      "extraordinary: 1\n",
      "now: 1\n",
      "When: 2\n",
      "woman: 3\n",
      "grown: 1\n",
      "up: 1\n",
      "ought: 1\n",
      "give: 1\n",
      "over: 3\n",
      "her: 5\n",
      "own: 2\n",
      "In: 1\n",
      "cases: 1\n",
      "often: 1\n",
      "think: 2\n",
      "indeed: 1\n",
      "when: 2\n",
      "into: 2\n",
      "more: 2\n",
      "than: 3\n",
      "engage: 1\n",
      "assure: 2\n",
      "consider: 1\n",
      "your: 3\n",
      "Only: 1\n",
      "what: 2\n",
      "an: 1\n",
      "establishment: 1\n",
      "would: 1\n",
      "Sir: 1\n",
      "William: 1\n",
      "Lady: 1\n",
      "Lucas: 1\n",
      "determined: 1\n",
      "merely: 1\n",
      "account: 1\n",
      "general: 1\n",
      "they: 2\n",
      "newcomers: 1\n",
      "Indeed: 1\n",
      "impossible: 1\n",
      "us: 2\n",
      "if: 2\n",
      "scrupulous: 1\n",
      "surely: 1\n",
      "dare: 1\n",
      "say: 1\n",
      "glad: 1\n",
      "few: 1\n",
      "lines: 1\n",
      "hearty: 1\n",
      "consent: 1\n",
      "whichever: 1\n",
      "chooses: 1\n",
      "though: 1\n",
      "throw: 1\n",
      "word: 1\n",
      "Lizzy: 3\n",
      "desire: 1\n",
      "bit: 1\n",
      "others: 1\n",
      "half: 2\n",
      "Jane: 1\n",
      "nor: 1\n",
      "humoured: 1\n",
      "Lydia: 1\n",
      "always: 1\n",
      "giving: 1\n",
      "preference: 1\n",
      "They: 2\n",
      "none: 1\n",
      "recommend: 1\n",
      "silly: 1\n",
      "ignorant: 1\n",
      "something: 1\n",
      "quickness: 1\n",
      "sisters: 1\n",
      "abuse: 1\n",
      "children: 1\n",
      "way: 1\n",
      "delight: 1\n",
      "vexing: 1\n",
      "compassion: 1\n",
      "poor: 1\n",
      "nerves: 2\n",
      "mistake: 1\n",
      "high: 1\n",
      "respect: 1\n",
      "old: 1\n",
      "friends: 1\n",
      "mention: 1\n",
      "consideration: 1\n",
      "these: 1\n",
      "twenty: 4\n",
      "years: 2\n",
      "least: 1\n",
      "Ah: 1\n",
      "suffer: 1\n",
      "hope: 1\n",
      "get: 2\n",
      "live: 1\n",
      "many: 1\n",
      "men: 1\n",
      "come: 2\n",
      "use: 1\n",
      "should: 1\n",
      "since: 1\n",
      "Depend: 1\n",
      "upon: 1\n",
      "there: 1\n",
      "odd: 1\n",
      "mixture: 1\n",
      "quick: 1\n",
      "parts: 1\n",
      "sarcastic: 1\n",
      "humour: 1\n",
      "reserve: 1\n",
      "caprice: 1\n",
      "experience: 1\n",
      "three: 1\n",
      "insufficient: 1\n",
      "make: 1\n",
      "understand: 1\n",
      "character: 1\n",
      "Her: 1\n",
      "mind: 1\n",
      "less: 1\n",
      "difficult: 1\n",
      "develop: 1\n",
      "She: 1\n",
      "mean: 1\n",
      "understanding: 1\n",
      "information: 1\n",
      "uncertain: 1\n",
      "temper: 1\n",
      "discontented: 1\n",
      "fancied: 1\n",
      "herself: 1\n",
      "nervous: 1\n",
      "The: 1\n",
      "business: 1\n",
      "life: 1\n",
      "its: 1\n",
      "solace: 1\n",
      "visiting: 1\n",
      "news: 1\n"
     ]
    }
   ],
   "source": [
    "# Activity 2- Count the number of unique words\n",
    "word_count_dict = {}\n",
    "\n",
    "for word in words:\n",
    "      if word in word_count_dict:\n",
    "        word_count_dict[word] += 1\n",
    "      else:\n",
    "        word_count_dict[word] = 1\n",
    "        \n",
    "for key, value in word_count_dict.items():\n",
    "        print(\"{}:\"\" \"\"{}\".format(key, value))\n"
   ]
  },
  {
   "cell_type": "code",
   "execution_count": 26,
   "id": "790d92f8",
   "metadata": {},
   "outputs": [],
   "source": [
    "# Activity 2 - Sort the word count based on number of words\n",
    "\n",
    "wordcount_sorted=sorted(word_count_dict.items(), key=lambda key_val_tuple: key_val_tuple[1], reverse=True)"
   ]
  },
  {
   "cell_type": "code",
   "execution_count": 27,
   "id": "3f102849",
   "metadata": {},
   "outputs": [
    {
     "data": {
      "text/plain": [
       "[('of', 29),\n",
       " ('you', 24),\n",
       " ('to', 22),\n",
       " ('a', 20),\n",
       " ('the', 17),\n",
       " ('and', 17),\n",
       " ('I', 17),\n",
       " ('that', 15),\n",
       " ('is', 12),\n",
       " ('for', 12),\n",
       " ('in', 11),\n",
       " ('be', 11),\n",
       " ('his', 11),\n",
       " ('he', 11),\n",
       " ('it', 11),\n",
       " ('them', 11),\n",
       " ('Mr', 10),\n",
       " ('my', 10),\n",
       " ('not', 9),\n",
       " ('will', 9),\n",
       " ('so', 8),\n",
       " ('dear', 8),\n",
       " ('was', 8),\n",
       " ('are', 8),\n",
       " ('must', 7)]"
      ]
     },
     "execution_count": 27,
     "metadata": {},
     "output_type": "execute_result"
    }
   ],
   "source": [
    "# Activity 2 - Top 25 words based on number of occurance\n",
    "wordcount_sorted[:25]"
   ]
  },
  {
   "cell_type": "code",
   "execution_count": 28,
   "id": "e969cb1e",
   "metadata": {},
   "outputs": [],
   "source": [
    "# Activity 3  \n",
    "from itertools import permutations, dropwhile "
   ]
  },
  {
   "cell_type": "code",
   "execution_count": 29,
   "id": "1c8ec334",
   "metadata": {},
   "outputs": [
    {
     "data": {
      "text/plain": [
       "<itertools.permutations at 0x7ff2a5f85f90>"
      ]
     },
     "execution_count": 29,
     "metadata": {},
     "output_type": "execute_result"
    }
   ],
   "source": [
    "# Activity 3 \n",
    "permutations(range(3))"
   ]
  },
  {
   "cell_type": "code",
   "execution_count": 30,
   "id": "a14ad142",
   "metadata": {},
   "outputs": [
    {
     "name": "stdout",
     "output_type": "stream",
     "text": [
      "(0, 1, 2)\n",
      "(0, 2, 1)\n",
      "(1, 0, 2)\n",
      "(1, 2, 0)\n",
      "(2, 0, 1)\n",
      "(2, 1, 0)\n"
     ]
    }
   ],
   "source": [
    "# Activity 3  - Permutation  in the range of 3\n",
    "for x in permutations(range(3)):\n",
    "    print(x)\n",
    "    assert isinstance(x, tuple)"
   ]
  },
  {
   "cell_type": "code",
   "execution_count": 31,
   "id": "1dbed96c",
   "metadata": {},
   "outputs": [
    {
     "name": "stdout",
     "output_type": "stream",
     "text": [
      "[1, 2]\n",
      "[2, 1]\n",
      "[1, 0, 2]\n",
      "[1, 2, 0]\n",
      "[2, 0, 1]\n",
      "[2, 1, 0]\n"
     ]
    }
   ],
   "source": [
    "# Activity 3 - Drop leading zeros\n",
    "for x in permutations(range(3)):\n",
    "    print(list(dropwhile(lambda y: y <= 0, x)))\n",
    "   "
   ]
  },
  {
   "cell_type": "code",
   "execution_count": 32,
   "id": "63b3742d",
   "metadata": {},
   "outputs": [
    {
     "name": "stdout",
     "output_type": "stream",
     "text": [
      "<class 'itertools.dropwhile'>\n"
     ]
    }
   ],
   "source": [
    "# Activity 3- Print the type of dropwhile \n",
    "print(type(dropwhile(lambda y: y <= 0, x)))"
   ]
  },
  {
   "cell_type": "code",
   "execution_count": 33,
   "id": "7003e243",
   "metadata": {},
   "outputs": [],
   "source": [
    "# Activity 3\n",
    "# Function to concatenate the stack digits and conver them to integer\n",
    "import math\n",
    "\n",
    "def dw_fn(ns):\n",
    "    fn = 0\n",
    "    for i in range(0, len(ns)):\n",
    "        fn += (ns.pop() * (math.pow(10, i)))\n",
    "    return fn"
   ]
  },
  {
   "cell_type": "code",
   "execution_count": 34,
   "id": "8f35a9ed",
   "metadata": {},
   "outputs": [
    {
     "name": "stdout",
     "output_type": "stream",
     "text": [
      "12.0\n",
      "21.0\n",
      "102.0\n",
      "120.0\n",
      "201.0\n",
      "210.0\n"
     ]
    }
   ],
   "source": [
    "# Activity 3\n",
    "# Pass the stack to the function\n",
    "for x in permutations(range(3)):\n",
    "    ns = list(dropwhile(lambda y: y <= 0, x))\n",
    "    print(dw_fn(ns))"
   ]
  },
  {
   "cell_type": "code",
   "execution_count": 35,
   "id": "a128e1d4",
   "metadata": {},
   "outputs": [],
   "source": [
    "# Activity 4\n",
    "from itertools import zip_longest"
   ]
  },
  {
   "cell_type": "code",
   "execution_count": 36,
   "id": "273e4d06",
   "metadata": {},
   "outputs": [],
   "source": [
    "# Activity 4 - Function to parse the header\n",
    "def csv_dict(header, line):\n",
    "    zipped_line = zip_longest(header, line, fillvalue=None)\n",
    "    return_dict = {kv[0]: kv[1] for kv in zipped_line}\n",
    "    return return_dict"
   ]
  },
  {
   "cell_type": "code",
   "execution_count": 38,
   "id": "01f7d625",
   "metadata": {},
   "outputs": [
    {
     "name": "stdout",
     "output_type": "stream",
     "text": [
      "{'Region': 'Central America and the Caribbean', 'Country': 'Antigua and Barbuda ', 'Item Type': 'Baby Food', 'Sales Channel': 'Online', 'Order Priority': 'M', 'Order Date': '12/20/2013', 'Order ID': '957081544', 'Ship Date': '1/11/2014', 'Units Sold': '552', 'Unit Price': '255.28', 'Unit Cost': '159.42', 'Total Revenue': '140914.56', 'Total Cost': '87999.84', 'Total Profit': '52914.72'}\n",
      "{'Region': 'Central America and the Caribbean', 'Country': 'Panama', 'Item Type': 'Snacks', 'Sales Channel': 'Offline', 'Order Priority': 'C', 'Order Date': '7/5/2010', 'Order ID': '301644504', 'Ship Date': '7/26/2010', 'Units Sold': '2167', 'Unit Price': '152.58', 'Unit Cost': '97.44', 'Total Revenue': '330640.86', 'Total Cost': '211152.48', 'Total Profit': '119488.38'}\n",
      "{'Region': 'Europe', 'Country': 'Czech Republic', 'Item Type': 'Beverages', 'Sales Channel': 'Offline', 'Order Priority': 'C', 'Order Date': '9/12/2011', 'Order ID': '478051030', 'Ship Date': '9/29/2011', 'Units Sold': '4778', 'Unit Price': '47.45', 'Unit Cost': '31.79', 'Total Revenue': '226716.10', 'Total Cost': '151892.62', 'Total Profit': '74823.48'}\n",
      "{'Region': 'Asia', 'Country': 'North Korea', 'Item Type': 'Cereal', 'Sales Channel': 'Offline', 'Order Priority': 'L', 'Order Date': '5/13/2010', 'Order ID': '892599952', 'Ship Date': '6/15/2010', 'Units Sold': '9016', 'Unit Price': '205.70', 'Unit Cost': '117.11', 'Total Revenue': '1854591.20', 'Total Cost': '1055863.76', 'Total Profit': '798727.44'}\n",
      "{'Region': 'Asia', 'Country': 'Sri Lanka', 'Item Type': 'Snacks', 'Sales Channel': 'Offline', 'Order Priority': 'C', 'Order Date': '7/20/2015', 'Order ID': '571902596', 'Ship Date': '7/27/2015', 'Units Sold': '7542', 'Unit Price': '152.58', 'Unit Cost': '97.44', 'Total Revenue': '1150758.36', 'Total Cost': '734892.48', 'Total Profit': '415865.88'}\n",
      "{'Region': 'Middle East and North Africa', 'Country': 'Morocco', 'Item Type': 'Personal Care', 'Sales Channel': 'Offline', 'Order Priority': 'L', 'Order Date': '11/8/2010', 'Order ID': '412882792', 'Ship Date': '11/22/2010', 'Units Sold': '48', 'Unit Price': '81.73', 'Unit Cost': '56.67', 'Total Revenue': '3923.04', 'Total Cost': '2720.16', 'Total Profit': '1202.88'}\n",
      "{'Region': 'Australia and Oceania', 'Country': 'Federated States of Micronesia', 'Item Type': 'Clothes', 'Sales Channel': 'Offline', 'Order Priority': 'H', 'Order Date': '3/28/2011', 'Order ID': '932776868', 'Ship Date': '5/10/2011', 'Units Sold': '8258', 'Unit Price': '109.28', 'Unit Cost': '35.84', 'Total Revenue': '902434.24', 'Total Cost': '295966.72', 'Total Profit': '606467.52'}\n",
      "{'Region': 'Europe', 'Country': 'Bosnia and Herzegovina', 'Item Type': 'Clothes', 'Sales Channel': 'Online', 'Order Priority': 'M', 'Order Date': '10/14/2013', 'Order ID': '919133651', 'Ship Date': '11/4/2013', 'Units Sold': '927', 'Unit Price': '109.28', 'Unit Cost': '35.84', 'Total Revenue': '101302.56', 'Total Cost': '33223.68', 'Total Profit': '68078.88'}\n",
      "{'Region': 'Middle East and North Africa', 'Country': 'Afghanistan', 'Item Type': 'Clothes', 'Sales Channel': 'Offline', 'Order Priority': 'M', 'Order Date': '8/27/2016', 'Order ID': '579814469', 'Ship Date': '10/5/2016', 'Units Sold': '8841', 'Unit Price': '109.28', 'Unit Cost': '35.84', 'Total Revenue': '966144.48', 'Total Cost': '316861.44', 'Total Profit': '649283.04'}\n",
      "{'Region': 'Sub-Saharan Africa', 'Country': 'Ethiopia', 'Item Type': 'Baby Food', 'Sales Channel': 'Online', 'Order Priority': 'M', 'Order Date': '4/13/2015', 'Order ID': '192993152', 'Ship Date': '5/7/2015', 'Units Sold': '9817', 'Unit Price': '255.28', 'Unit Cost': '159.42', 'Total Revenue': '2506083.76', 'Total Cost': '1565026.14', 'Total Profit': '941057.62'}\n",
      "{'Region': 'Middle East and North Africa', 'Country': 'Turkey', 'Item Type': 'Office Supplies', 'Sales Channel': 'Offline', 'Order Priority': 'C', 'Order Date': '9/25/2013', 'Order ID': '557156026', 'Ship Date': '10/15/2013', 'Units Sold': '3704', 'Unit Price': '651.21', 'Unit Cost': '524.96', 'Total Revenue': '2412081.84', 'Total Cost': '1944451.84', 'Total Profit': '467630.00'}\n",
      "{'Region': 'Middle East and North Africa', 'Country': 'Oman', 'Item Type': 'Cosmetics', 'Sales Channel': 'Online', 'Order Priority': 'M', 'Order Date': '5/12/2013', 'Order ID': '741101920', 'Ship Date': '5/17/2013', 'Units Sold': '7382', 'Unit Price': '437.20', 'Unit Cost': '263.33', 'Total Revenue': '3227410.40', 'Total Cost': '1943902.06', 'Total Profit': '1283508.34'}\n"
     ]
    }
   ],
   "source": [
    "# Activity 4 - Read the file and display the value with the header\n",
    "with open(\"sales_record.csv\", \"r\") as fd:\n",
    "    f = fd.readline()\n",
    "    header = f.replace(\"\\n\", \"\").split(\",\")\n",
    "    for i, line in enumerate(fd):\n",
    "        # Here we loop over the first 10 lines in order to not to make the output too big\n",
    "        line = line.replace(\"\\n\", \"\").split(\",\")\n",
    "        d = csv_dict(header, line)\n",
    "        print(d)\n",
    "        if i > 10:\n",
    "            break"
   ]
  },
  {
   "cell_type": "code",
   "execution_count": null,
   "id": "a3375017",
   "metadata": {},
   "outputs": [],
   "source": []
  }
 ],
 "metadata": {
  "kernelspec": {
   "display_name": "Python 3 (ipykernel)",
   "language": "python",
   "name": "python3"
  },
  "language_info": {
   "codemirror_mode": {
    "name": "ipython",
    "version": 3
   },
   "file_extension": ".py",
   "mimetype": "text/x-python",
   "name": "python",
   "nbconvert_exporter": "python",
   "pygments_lexer": "ipython3",
   "version": "3.9.6"
  }
 },
 "nbformat": 4,
 "nbformat_minor": 5
}
