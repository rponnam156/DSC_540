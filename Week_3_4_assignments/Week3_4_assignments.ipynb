# Activity 5
import os
os.chdir('/Users/rajponnam/Documents/ds_course/DSC_540/Lesson05/Exercise60-68')
os.getcwd()
