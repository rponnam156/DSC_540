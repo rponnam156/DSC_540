{
 "cells": [
  {
   "cell_type": "code",
   "execution_count": 1,
   "id": "71fe8c44",
   "metadata": {},
   "outputs": [],
   "source": [
    "# Activity 11\n",
    "#Load the  required library\n",
    "import sqlite3"
   ]
  },
  {
   "cell_type": "code",
   "execution_count": 20,
   "id": "a8d4d485",
   "metadata": {},
   "outputs": [],
   "source": [
    "#Provide the connection string to the pets database\n",
    "conn= sqlite3.connect(\"/Users/rajponnam/Downloads/Data-Wrangling-with-Python-master/Lesson08/Activity11/petsdb\")"
   ]
  },
  {
   "cell_type": "code",
   "execution_count": 25,
   "id": "da2e350a",
   "metadata": {},
   "outputs": [],
   "source": [
    "#Function to check the connection status\n",
    "def conn_open(conn):\n",
    "    try:\n",
    "     conn.execute(\"Select * from persons limit 3\")\n",
    "     return True\n",
    "\n",
    "    except sqlite3.ProgrammingError as e:\n",
    "        print(\"Connection closed {}\".format(e))\n",
    "        return False"
   ]
  },
  {
   "cell_type": "code",
   "execution_count": 29,
   "id": "424c9e8a",
   "metadata": {},
   "outputs": [
    {
     "name": "stdout",
     "output_type": "stream",
     "text": [
      "True\n"
     ]
    }
   ],
   "source": [
    "# Check db connection status\n",
    "print(conn_open(conn))\n"
   ]
  },
  {
   "cell_type": "code",
   "execution_count": 30,
   "id": "8cd254b7",
   "metadata": {},
   "outputs": [],
   "source": [
    "# Close db connection\n",
    "conn.close()"
   ]
  },
  {
   "cell_type": "code",
   "execution_count": 35,
   "id": "5d6c8e95",
   "metadata": {},
   "outputs": [
    {
     "name": "stdout",
     "output_type": "stream",
     "text": [
      "Connection closed Cannot operate on a closed database.\n",
      "False\n"
     ]
    }
   ],
   "source": [
    "# Check db connection\n",
    "print(conn_open(conn))"
   ]
  },
  {
   "cell_type": "code",
   "execution_count": 36,
   "id": "dbf5cb5c",
   "metadata": {},
   "outputs": [],
   "source": [
    "# Provide db connection string\n",
    "conn= sqlite3.connect(\"/Users/rajponnam/Downloads/Data-Wrangling-with-Python-master/Lesson08/Activity11/petsdb\")"
   ]
  },
  {
   "cell_type": "code",
   "execution_count": 40,
   "id": "3d0446ba",
   "metadata": {},
   "outputs": [],
   "source": [
    "# Store coonection string in a varaible\n",
    "connect = conn.cursor()"
   ]
  },
  {
   "cell_type": "code",
   "execution_count": 56,
   "id": "a6854013",
   "metadata": {},
   "outputs": [
    {
     "name": "stdout",
     "output_type": "stream",
     "text": [
      "Age Number of persons\n",
      "5 2\n",
      "6 1\n",
      "7 1\n",
      "8 3\n",
      "9 1\n",
      "11 2\n",
      "12 3\n",
      "13 1\n",
      "14 4\n",
      "16 2\n",
      "17 2\n",
      "18 3\n",
      "19 1\n",
      "22 3\n",
      "23 2\n",
      "24 3\n",
      "25 2\n",
      "27 1\n",
      "30 1\n",
      "31 3\n",
      "32 1\n",
      "33 1\n",
      "34 2\n",
      "35 3\n",
      "36 3\n",
      "37 1\n",
      "39 2\n",
      "40 1\n",
      "42 1\n",
      "44 2\n",
      "48 2\n",
      "49 1\n",
      "50 1\n",
      "51 2\n",
      "52 2\n",
      "53 2\n",
      "54 2\n",
      "58 1\n",
      "59 1\n",
      "60 1\n",
      "61 1\n",
      "62 2\n",
      "63 1\n",
      "65 2\n",
      "66 2\n",
      "67 1\n",
      "68 3\n",
      "69 1\n",
      "70 1\n",
      "71 4\n",
      "72 1\n",
      "73 5\n",
      "74 3\n"
     ]
    }
   ],
   "source": [
    "# SQL to display number of persons with a particular age\n",
    "print(\"Age Number of persons\")\n",
    "for ppl, age in connect.execute(\"SELECT count(*), age FROM persons GROUP BY age\"):\n",
    "  print(age, ppl)"
   ]
  },
  {
   "cell_type": "code",
   "execution_count": 57,
   "id": "e4adf306",
   "metadata": {},
   "outputs": [
    {
     "name": "stdout",
     "output_type": "stream",
     "text": [
      "Highest number of people 5 came from 73 age group\n"
     ]
    }
   ],
   "source": [
    " # SQL to select the number of persons with the maximum age\n",
    "for ppl, age in connect.execute(\"SELECT count(*), age FROM persons GROUP BY age ORDER BY count(*) DESC\"):\n",
    "    print(\"Highest number of people {} came from {} age group\".format(ppl, age))\n",
    "    break"
   ]
  },
  {
   "cell_type": "code",
   "execution_count": 64,
   "id": "b9d24f6d",
   "metadata": {},
   "outputs": [
    {
     "name": "stdout",
     "output_type": "stream",
     "text": [
      "(60,)\n"
     ]
    }
   ],
   "source": [
    "# SQL to retrieve the number of records with no lastname\n",
    "res = connect.execute(\"SELECT count(*) FROM persons WHERE last_name IS null\")\n",
    "for row in res:\n",
    "    print(row)"
   ]
  },
  {
   "cell_type": "code",
   "execution_count": 67,
   "id": "4eba64c1",
   "metadata": {},
   "outputs": [
    {
     "name": "stdout",
     "output_type": "stream",
     "text": [
      "43 People has more than one pets\n"
     ]
    }
   ],
   "source": [
    "#  SQL to retrieve the numer of people with more than one pet\n",
    "res = connect.execute(\"SELECT count(*) FROM (SELECT count(owner_id) FROM pets GROUP BY owner_id HAVING count(owner_id) >1)\")\n",
    "for row in res:\n",
    "    print(\"{} People has more than one pets\".format(row[0]))"
   ]
  },
  {
   "cell_type": "code",
   "execution_count": 71,
   "id": "47cee3ec",
   "metadata": {},
   "outputs": [
    {
     "name": "stdout",
     "output_type": "stream",
     "text": [
      "(36,)\n"
     ]
    }
   ],
   "source": [
    "# SQL to retrieve the numer of people with pets underwent treatment\n",
    "res = connect.execute(\"SELECT count(*) FROM pets WHERE treatment_done=1\")\n",
    "for row in res:\n",
    "    print(row)"
   ]
  },
  {
   "cell_type": "code",
   "execution_count": 76,
   "id": "e660b6f9",
   "metadata": {},
   "outputs": [
    {
     "name": "stdout",
     "output_type": "stream",
     "text": [
      "(16,)\n"
     ]
    }
   ],
   "source": [
    "# SQL to retrieve the numer of people with pets that underwent treatment and treatment type is not null\n",
    "res = connect.execute(\"SELECT count(*) FROM pets WHERE treatment_done=1 AND pet_type IS NOT null\")\n",
    "for row in res:\n",
    "    print(row)"
   ]
  },
  {
   "cell_type": "code",
   "execution_count": 79,
   "id": "252d4f66",
   "metadata": {},
   "outputs": [
    {
     "name": "stdout",
     "output_type": "stream",
     "text": [
      "(49,)\n"
     ]
    }
   ],
   "source": [
    "# SQL to retrieve the numer of people with pets from city East Port\n",
    "res = connect.execute(\"SELECT count(*) FROM pets JOIN persons ON pets.owner_id = persons.id WHERE persons.city='east port'\")\n",
    "for row in res:\n",
    "    print(row)"
   ]
  },
  {
   "cell_type": "code",
   "execution_count": 82,
   "id": "96a99744",
   "metadata": {},
   "outputs": [
    {
     "name": "stdout",
     "output_type": "stream",
     "text": [
      "(11,)\n"
     ]
    }
   ],
   "source": [
    "# SQL to retrieve the numer of people with pets that underwent treatment from city East Port\n",
    "res = connect.execute(\"SELECT count(*) FROM pets JOIN persons ON pets.owner_id = persons.id WHERE persons.city='east port' AND pets.treatment_done=1\")\n",
    "for row in res:\n",
    "    print(row)"
   ]
  },
  {
   "cell_type": "code",
   "execution_count": null,
   "id": "17df26b0",
   "metadata": {},
   "outputs": [],
   "source": []
  }
 ],
 "metadata": {
  "kernelspec": {
   "display_name": "Python 3 (ipykernel)",
   "language": "python",
   "name": "python3"
  },
  "language_info": {
   "codemirror_mode": {
    "name": "ipython",
    "version": 3
   },
   "file_extension": ".py",
   "mimetype": "text/x-python",
   "name": "python",
   "nbconvert_exporter": "python",
   "pygments_lexer": "ipython3",
   "version": "3.9.6"
  }
 },
 "nbformat": 4,
 "nbformat_minor": 5
}
